{
 "cells": [
  {
   "cell_type": "code",
   "execution_count": 1,
   "metadata": {},
   "outputs": [],
   "source": [
    "%load_ext autoreload\n",
    "%autoreload 2"
   ]
  },
  {
   "cell_type": "code",
   "execution_count": 2,
   "metadata": {},
   "outputs": [
    {
     "name": "stdout",
     "output_type": "stream",
     "text": [
      "4_50_3_1.0e-03\n",
      "cpu\n"
     ]
    }
   ],
   "source": [
    "from data_gen import Args, data_gen_decision_tree \n",
    "import numpy as np\n",
    "# from dlgn import trainDLGN\n",
    "# from lcn import trainLCN\n",
    "# from latent import trainLatentTree\n",
    "# from tao import trainTAO\n",
    "import dlgn\n",
    "import lcn\n",
    "import latent\n",
    "import tao\n",
    "import kernel"
   ]
  },
  {
   "cell_type": "code",
   "execution_count": 3,
   "metadata": {},
   "outputs": [],
   "source": [
    "algorithms = [dlgn.trainDLGN, lcn.trainLCN, latent.trainLatentTree, tao.trainTAO, kernel.trainSVM]\n",
    "# algorithms = [kernel.trainSVM, tao.trainTAO]"
   ]
  },
  {
   "cell_type": "code",
   "execution_count": 4,
   "metadata": {},
   "outputs": [],
   "source": [
    "args = Args()\n",
    "args.numlayer = 4\n",
    "args.numnodes = 50\n",
    "args.beta = 3.\n",
    "args.lr = 0.001\n",
    "args.input_dim = 2"
   ]
  },
  {
   "cell_type": "code",
   "execution_count": 5,
   "metadata": {},
   "outputs": [
    {
     "name": "stdout",
     "output_type": "stream",
     "text": [
      "0.8848674525558149 0.7423035474314879 -0.9340161513391072\n",
      "0.8866181264573597 1.0094960179278372 -0.5190998687815137\n",
      "{'C': 1000, 'degree': 2, 'gamma': 0.01, 'kernel': 'linear'}\n",
      "0.5328333333333333\n",
      "Train accuracy: 0.5316666666666666\n",
      "Validation accuracy: 0.518\n",
      "Test accuracy: 0.524\n",
      "{'C': 1000, 'degree': 2, 'gamma': 0.01, 'kernel': 'poly'}\n",
      "0.5901666666666667\n",
      "Train accuracy: 0.592\n",
      "Validation accuracy: 0.6133333333333333\n",
      "Test accuracy: 0.5936666666666667\n",
      "{'C': 1000, 'degree': 2, 'gamma': 0.01, 'kernel': 'rbf'}\n",
      "0.5906666666666667\n",
      "Train accuracy: 0.5886666666666667\n",
      "Validation accuracy: 0.6126666666666667\n",
      "Test accuracy: 0.5943333333333334\n",
      "{'C': 1000, 'degree': 2, 'gamma': 0.0001, 'kernel': 'sigmoid'}\n",
      "0.5326666666666667\n",
      "Train accuracy: 0.5316666666666666\n",
      "Validation accuracy: 0.5186666666666667\n",
      "Test accuracy: 0.5236666666666666\n",
      "0.8848674525558149 0.7423035474314879 -0.9340161513391072\n",
      "0.8866181264573597 1.0094960179278372 -0.5190998687815137\n",
      "Current height: 2\n",
      "starting score 0.5946666666666667\n",
      "Train acc 0.5946666666666667\n",
      "Valid acc 0.586\n",
      "Test acc 0.576\n",
      "Current height: 3\n",
      "starting score 0.6375\n",
      "Train acc 0.6828333333333333\n",
      "Valid acc 0.682\n",
      "Test acc 0.6643333333333333\n",
      "Current height: 4\n",
      "starting score 0.7031666666666667\n",
      "Train acc 0.8483333333333334\n",
      "Valid acc 0.8516666666666667\n",
      "Test acc 0.854\n",
      "Current height: 5\n",
      "starting score 0.751\n",
      "Train acc 0.7568333333333334\n",
      "Valid acc 0.767\n",
      "Test acc 0.76\n",
      "Current height: 6\n",
      "starting score 0.7848333333333334\n",
      "Train acc 0.8205\n",
      "Valid acc 0.8216666666666667\n",
      "Test acc 0.8083333333333333\n",
      "Current height: 7\n",
      "starting score 0.8135\n",
      "Train acc 0.8976666666666666\n",
      "Valid acc 0.894\n",
      "Test acc 0.889\n",
      "Current height: 8\n",
      "starting score 0.8913333333333333\n",
      "Train acc 0.9088333333333334\n",
      "Valid acc 0.902\n",
      "Test acc 0.896\n",
      "Current height: 9\n",
      "starting score 0.9233333333333333\n",
      "Train acc 0.935\n",
      "Valid acc 0.918\n",
      "Test acc 0.921\n",
      "Best height: 9\n",
      "Train acc 0.935\n",
      "Test acc 0.921\n"
     ]
    }
   ],
   "source": [
    "for height in [2 ,3, 4]:\n",
    "    for input_dim in [2, 3, 4]:\n",
    "        for num_data in [6000, 20000, 100000]:\n",
    "            for algo in algorithms:\n",
    "                num_data = 12000\n",
    "                seed_set = 0\n",
    "                seeds = [1234]\n",
    "                for seed in seeds:\n",
    "                    ((data_x, labels), (w_list, b_list, vals), stats) = data_gen_decision_tree(\n",
    "                                                                dim=args.input_dim, seed=seed, num_levels=4,\n",
    "                                                                num_data=num_data)\n",
    "                    seed_set=seed\n",
    "\n",
    "                w_list_old = np.array(w_list)\n",
    "                b_list_old = np.array(b_list)\n",
    "\n",
    "                num_data = len(data_x)\n",
    "                num_train= num_data//2\n",
    "                num_vali = num_data//4\n",
    "                num_test = num_data//4\n",
    "                train_data = data_x[:num_train,:]\n",
    "                train_data_labels = labels[:num_train]\n",
    "\n",
    "                vali_data = data_x[num_train:num_train+num_vali,:]\n",
    "                vali_data_labels = labels[num_train:num_train+num_vali]\n",
    "\n",
    "                test_data = data_x[num_train+num_vali :,:]\n",
    "                test_data_labels = labels[num_train+num_vali :] \n",
    "                model = algo(args)\n",
    "\n",
    "                model.train(train_data, train_data_labels, vali_data, vali_data_labels, test_data, test_data_labels, w_list_old=w_list_old, b_list_old=b_list_old)"
   ]
  }
 ],
 "metadata": {
  "kernelspec": {
   "display_name": "Python 3",
   "language": "python",
   "name": "python3"
  },
  "language_info": {
   "codemirror_mode": {
    "name": "ipython",
    "version": 3
   },
   "file_extension": ".py",
   "mimetype": "text/x-python",
   "name": "python",
   "nbconvert_exporter": "python",
   "pygments_lexer": "ipython3",
   "version": "3.11.5"
  }
 },
 "nbformat": 4,
 "nbformat_minor": 2
}
