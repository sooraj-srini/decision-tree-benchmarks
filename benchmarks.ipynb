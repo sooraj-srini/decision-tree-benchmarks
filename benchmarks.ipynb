{
 "cells": [
  {
   "cell_type": "code",
   "execution_count": 6,
   "metadata": {},
   "outputs": [
    {
     "name": "stdout",
     "output_type": "stream",
     "text": [
      "The autoreload extension is already loaded. To reload it, use:\n",
      "  %reload_ext autoreload\n"
     ]
    }
   ],
   "source": [
    "%load_ext autoreload\n",
    "%autoreload 2"
   ]
  },
  {
   "cell_type": "code",
   "execution_count": 15,
   "metadata": {},
   "outputs": [],
   "source": [
    "from data_gen import Args, data_gen_decision_tree \n",
    "import numpy as np\n",
    "# from dlgn import trainDLGN\n",
    "# from lcn import trainLCN\n",
    "# from latent import trainLatentTree\n",
    "# from tao import trainTAO\n",
    "import dlgn\n",
    "import lcn\n",
    "import latent\n",
    "import tao\n",
    "import kernel"
   ]
  },
  {
   "cell_type": "code",
   "execution_count": 16,
   "metadata": {},
   "outputs": [],
   "source": [
    "algorithms = [tao.trainTAO]\n",
    "# algorithms = [kernel.trainSVM, tao.trainTAO]"
   ]
  },
  {
   "cell_type": "code",
   "execution_count": 17,
   "metadata": {},
   "outputs": [],
   "source": [
    "args = Args()\n",
    "args.numlayer = 4\n",
    "args.numnodes = 50\n",
    "args.beta = 3.\n",
    "args.lr = 0.001\n",
    "args.input_dim = 2"
   ]
  },
  {
   "cell_type": "code",
   "execution_count": 18,
   "metadata": {},
   "outputs": [
    {
     "name": "stdout",
     "output_type": "stream",
     "text": [
      "0.8848674525558149 0.7423035474314879 -0.9340161513391072\n",
      "0.8856046815898853 1.0006225583207224 -0.5210032898794541\n",
      "Current height: 6\n",
      "|--- feature_1 <= -0.76\n",
      "|   |--- feature_0 <= 0.55\n",
      "|   |   |--- feature_0 <= 0.25\n",
      "|   |   |   |--- class: 1.0\n",
      "|   |   |--- feature_0 >  0.25\n",
      "|   |   |   |--- feature_1 <= -0.82\n",
      "|   |   |   |   |--- feature_1 <= -0.86\n",
      "|   |   |   |   |   |--- class: 1.0\n",
      "|   |   |   |   |--- feature_1 >  -0.86\n",
      "|   |   |   |   |   |--- feature_0 <= 0.45\n",
      "|   |   |   |   |   |   |--- class: 1.0\n",
      "|   |   |   |   |   |--- feature_0 >  0.45\n",
      "|   |   |   |   |   |   |--- class: 0.0\n",
      "|   |   |   |--- feature_1 >  -0.82\n",
      "|   |   |   |   |--- class: 0.0\n",
      "|   |--- feature_0 >  0.55\n",
      "|   |   |--- feature_1 <= -0.99\n",
      "|   |   |   |--- class: 1.0\n",
      "|   |   |--- feature_1 >  -0.99\n",
      "|   |   |   |--- feature_0 <= 0.69\n",
      "|   |   |   |   |--- feature_1 <= -0.91\n",
      "|   |   |   |   |   |--- class: 1.0\n",
      "|   |   |   |   |--- feature_1 >  -0.91\n",
      "|   |   |   |   |   |--- class: 0.0\n",
      "|   |   |   |--- feature_0 >  0.69\n",
      "|   |   |   |   |--- class: 0.0\n",
      "|--- feature_1 >  -0.76\n",
      "|   |--- feature_1 <= -0.40\n",
      "|   |   |--- feature_1 <= -0.66\n",
      "|   |   |   |--- feature_0 <= 0.08\n",
      "|   |   |   |   |--- feature_0 <= -0.82\n",
      "|   |   |   |   |   |--- feature_1 <= -0.69\n",
      "|   |   |   |   |   |   |--- class: 1.0\n",
      "|   |   |   |   |   |--- feature_1 >  -0.69\n",
      "|   |   |   |   |   |   |--- class: 0.0\n",
      "|   |   |   |   |--- feature_0 >  -0.82\n",
      "|   |   |   |   |   |--- feature_0 <= -0.06\n",
      "|   |   |   |   |   |   |--- class: 1.0\n",
      "|   |   |   |   |   |--- feature_0 >  -0.06\n",
      "|   |   |   |   |   |   |--- class: 1.0\n",
      "|   |   |   |--- feature_0 >  0.08\n",
      "|   |   |   |   |--- feature_1 <= -0.69\n",
      "|   |   |   |   |   |--- class: 0.0\n",
      "|   |   |   |   |--- feature_1 >  -0.69\n",
      "|   |   |   |   |   |--- feature_1 <= -0.69\n",
      "|   |   |   |   |   |   |--- class: 1.0\n",
      "|   |   |   |   |   |--- feature_1 >  -0.69\n",
      "|   |   |   |   |   |   |--- class: 0.0\n",
      "|   |   |--- feature_1 >  -0.66\n",
      "|   |   |   |--- feature_0 <= 0.43\n",
      "|   |   |   |   |--- feature_1 <= -0.61\n",
      "|   |   |   |   |   |--- feature_0 <= -0.07\n",
      "|   |   |   |   |   |   |--- class: 0.0\n",
      "|   |   |   |   |   |--- feature_0 >  -0.07\n",
      "|   |   |   |   |   |   |--- class: 0.0\n",
      "|   |   |   |   |--- feature_1 >  -0.61\n",
      "|   |   |   |   |   |--- feature_0 <= -0.96\n",
      "|   |   |   |   |   |   |--- class: 1.0\n",
      "|   |   |   |   |   |--- feature_0 >  -0.96\n",
      "|   |   |   |   |   |   |--- class: 0.0\n",
      "|   |   |   |--- feature_0 >  0.43\n",
      "|   |   |   |   |--- feature_0 <= 0.72\n",
      "|   |   |   |   |   |--- feature_1 <= -0.57\n",
      "|   |   |   |   |   |   |--- class: 0.0\n",
      "|   |   |   |   |   |--- feature_1 >  -0.57\n",
      "|   |   |   |   |   |   |--- class: 1.0\n",
      "|   |   |   |   |--- feature_0 >  0.72\n",
      "|   |   |   |   |   |--- class: 0.0\n",
      "|   |--- feature_1 >  -0.40\n",
      "|   |   |--- feature_0 <= -0.75\n",
      "|   |   |   |--- feature_1 <= -0.03\n",
      "|   |   |   |   |--- feature_1 <= -0.11\n",
      "|   |   |   |   |   |--- feature_0 <= -0.98\n",
      "|   |   |   |   |   |   |--- class: 1.0\n",
      "|   |   |   |   |   |--- feature_0 >  -0.98\n",
      "|   |   |   |   |   |   |--- class: 1.0\n",
      "|   |   |   |   |--- feature_1 >  -0.11\n",
      "|   |   |   |   |   |--- feature_0 <= -0.90\n",
      "|   |   |   |   |   |   |--- class: 0.0\n",
      "|   |   |   |   |   |--- feature_0 >  -0.90\n",
      "|   |   |   |   |   |   |--- class: 1.0\n",
      "|   |   |   |--- feature_1 >  -0.03\n",
      "|   |   |   |   |--- feature_1 <= 0.05\n",
      "|   |   |   |   |   |--- feature_0 <= -0.84\n",
      "|   |   |   |   |   |   |--- class: 0.0\n",
      "|   |   |   |   |   |--- feature_0 >  -0.84\n",
      "|   |   |   |   |   |   |--- class: 1.0\n",
      "|   |   |   |   |--- feature_1 >  0.05\n",
      "|   |   |   |   |   |--- feature_1 <= 0.12\n",
      "|   |   |   |   |   |   |--- class: 0.0\n",
      "|   |   |   |   |   |--- feature_1 >  0.12\n",
      "|   |   |   |   |   |   |--- class: 0.0\n",
      "|   |   |--- feature_0 >  -0.75\n",
      "|   |   |   |--- feature_0 <= -0.50\n",
      "|   |   |   |   |--- feature_1 <= -0.33\n",
      "|   |   |   |   |   |--- feature_0 <= -0.62\n",
      "|   |   |   |   |   |   |--- class: 1.0\n",
      "|   |   |   |   |   |--- feature_0 >  -0.62\n",
      "|   |   |   |   |   |   |--- class: 0.0\n",
      "|   |   |   |   |--- feature_1 >  -0.33\n",
      "|   |   |   |   |   |--- feature_0 <= -0.60\n",
      "|   |   |   |   |   |   |--- class: 1.0\n",
      "|   |   |   |   |   |--- feature_0 >  -0.60\n",
      "|   |   |   |   |   |   |--- class: 1.0\n",
      "|   |   |   |--- feature_0 >  -0.50\n",
      "|   |   |   |   |--- feature_0 <= -0.08\n",
      "|   |   |   |   |   |--- feature_1 <= 0.67\n",
      "|   |   |   |   |   |   |--- class: 0.0\n",
      "|   |   |   |   |   |--- feature_1 >  0.67\n",
      "|   |   |   |   |   |   |--- class: 1.0\n",
      "|   |   |   |   |--- feature_0 >  -0.08\n",
      "|   |   |   |   |   |--- feature_1 <= 0.33\n",
      "|   |   |   |   |   |   |--- class: 0.0\n",
      "|   |   |   |   |   |--- feature_1 >  0.33\n",
      "|   |   |   |   |   |   |--- class: 1.0\n",
      "\n",
      "starting score 0.7916666666666666\n"
     ]
    },
    {
     "ename": "AttributeError",
     "evalue": "'LogisticRegression' object has no attribute 'intercept_'",
     "output_type": "error",
     "traceback": [
      "\u001b[0;31m---------------------------------------------------------------------------\u001b[0m",
      "\u001b[0;31mAttributeError\u001b[0m                            Traceback (most recent call last)",
      "\u001b[1;32m/home/sooraj/sem/ugrc/benchmarks/benchmarks.ipynb Cell 5\u001b[0m line \u001b[0;36m3\n\u001b[1;32m     <a href='vscode-notebook-cell:/home/sooraj/sem/ugrc/benchmarks/benchmarks.ipynb#W4sZmlsZQ%3D%3D?line=27'>28</a>\u001b[0m test_data_labels \u001b[39m=\u001b[39m labels[num_train\u001b[39m+\u001b[39mnum_vali :] \n\u001b[1;32m     <a href='vscode-notebook-cell:/home/sooraj/sem/ugrc/benchmarks/benchmarks.ipynb#W4sZmlsZQ%3D%3D?line=28'>29</a>\u001b[0m model \u001b[39m=\u001b[39m algo(args)\n\u001b[0;32m---> <a href='vscode-notebook-cell:/home/sooraj/sem/ugrc/benchmarks/benchmarks.ipynb#W4sZmlsZQ%3D%3D?line=30'>31</a>\u001b[0m model\u001b[39m.\u001b[39;49mtrain(train_data, train_data_labels, vali_data, vali_data_labels, test_data, test_data_labels, w_list_old\u001b[39m=\u001b[39;49mw_list_old, b_list_old\u001b[39m=\u001b[39;49mb_list_old)\n",
      "File \u001b[0;32m~/sem/ugrc/benchmarks/tao.py:20\u001b[0m, in \u001b[0;36mtrainTAO.train\u001b[0;34m(self, train_data, train_data_labels, vali_data, vali_data_labels, test_data, test_data_labels, w_list_old, b_list_old)\u001b[0m\n\u001b[1;32m     15\u001b[0m \u001b[39mprint\u001b[39m(\u001b[39mf\u001b[39m\u001b[39m\"\u001b[39m\u001b[39mCurrent height: \u001b[39m\u001b[39m{\u001b[39;00mh\u001b[39m}\u001b[39;00m\u001b[39m\"\u001b[39m)\n\u001b[1;32m     16\u001b[0m m \u001b[39m=\u001b[39m TaoTreeClassifier(randomize_tree\u001b[39m=\u001b[39m\u001b[39mFalse\u001b[39;00m, weight_errors\u001b[39m=\u001b[39m\u001b[39mFalse\u001b[39;00m,\n\u001b[1;32m     17\u001b[0m                         node_model\u001b[39m=\u001b[39m\u001b[39m'\u001b[39m\u001b[39mlinear\u001b[39m\u001b[39m'\u001b[39m, model_args\u001b[39m=\u001b[39m{\u001b[39m'\u001b[39m\u001b[39mmax_depth\u001b[39m\u001b[39m'\u001b[39m: h},\n\u001b[1;32m     18\u001b[0m                         verbose\u001b[39m=\u001b[39m\u001b[39m1\u001b[39m, n_iters\u001b[39m=\u001b[39m\u001b[39m100\u001b[39m)\n\u001b[0;32m---> 20\u001b[0m m\u001b[39m.\u001b[39;49mfit(train_data, train_data_labels)\n\u001b[1;32m     21\u001b[0m \u001b[39mprint\u001b[39m(\u001b[39m'\u001b[39m\u001b[39mTrain acc\u001b[39m\u001b[39m'\u001b[39m, np\u001b[39m.\u001b[39mmean(m\u001b[39m.\u001b[39mpredict(train_data) \u001b[39m==\u001b[39m train_data_labels))\n\u001b[1;32m     22\u001b[0m \u001b[39mprint\u001b[39m(\u001b[39m'\u001b[39m\u001b[39mValid acc\u001b[39m\u001b[39m'\u001b[39m, np\u001b[39m.\u001b[39mmean(m\u001b[39m.\u001b[39mpredict(vali_data) \u001b[39m==\u001b[39m vali_data_labels))\n",
      "File \u001b[0;32m~/sem/ugrc/benchmarks/__tao.py:141\u001b[0m, in \u001b[0;36mTaoTree.fit\u001b[0;34m(self, X, y, feature_names, sample_weight)\u001b[0m\n\u001b[1;32m    139\u001b[0m     \u001b[39mprint\u001b[39m(\u001b[39m'\u001b[39m\u001b[39mstarting score\u001b[39m\u001b[39m'\u001b[39m, \u001b[39mself\u001b[39m\u001b[39m.\u001b[39mmodel\u001b[39m.\u001b[39mscore(X, y))\n\u001b[1;32m    140\u001b[0m \u001b[39mfor\u001b[39;00m i \u001b[39min\u001b[39;00m \u001b[39mrange\u001b[39m(\u001b[39mself\u001b[39m\u001b[39m.\u001b[39mn_iters):\n\u001b[0;32m--> 141\u001b[0m     num_updates \u001b[39m=\u001b[39m \u001b[39mself\u001b[39;49m\u001b[39m.\u001b[39;49m_tao_iter_cart(X, y, \u001b[39mself\u001b[39;49m\u001b[39m.\u001b[39;49mmodel\u001b[39m.\u001b[39;49mtree_, sample_weight\u001b[39m=\u001b[39;49msample_weight)\n\u001b[1;32m    142\u001b[0m     \u001b[39mif\u001b[39;00m num_updates \u001b[39m==\u001b[39m \u001b[39m0\u001b[39m:\n\u001b[1;32m    143\u001b[0m         \u001b[39mbreak\u001b[39;00m\n",
      "File \u001b[0;32m~/sem/ugrc/benchmarks/__tao.py:306\u001b[0m, in \u001b[0;36mTaoTree._tao_iter_cart\u001b[0;34m(self, X, y, tree, X_score, y_score, sample_weight)\u001b[0m\n\u001b[1;32m    304\u001b[0m best_model \u001b[39m=\u001b[39m deepcopy(m)\n\u001b[1;32m    305\u001b[0m \u001b[39mif\u001b[39;00m \u001b[39mself\u001b[39m\u001b[39m.\u001b[39mnode_model \u001b[39m==\u001b[39m \u001b[39m'\u001b[39m\u001b[39mlinear\u001b[39m\u001b[39m'\u001b[39m:\n\u001b[0;32m--> 306\u001b[0m     best_threshold \u001b[39m=\u001b[39m \u001b[39m-\u001b[39mbest_model\u001b[39m.\u001b[39;49mintercept_ \u001b[39m/\u001b[39m best_model\u001b[39m.\u001b[39mcoef_[\u001b[39m0\u001b[39m]\n\u001b[1;32m    307\u001b[0m \u001b[39melif\u001b[39;00m \u001b[39mself\u001b[39m\u001b[39m.\u001b[39mnode_model \u001b[39m==\u001b[39m \u001b[39m'\u001b[39m\u001b[39mstump\u001b[39m\u001b[39m'\u001b[39m:\n\u001b[1;32m    308\u001b[0m     best_threshold \u001b[39m=\u001b[39m best_model\u001b[39m.\u001b[39mtree_\u001b[39m.\u001b[39mthreshold[\u001b[39m0\u001b[39m]\n",
      "\u001b[0;31mAttributeError\u001b[0m: 'LogisticRegression' object has no attribute 'intercept_'"
     ]
    }
   ],
   "source": [
    "for height in [2 ,3, 4]:\n",
    "    for input_dim in [2, 3, 4]:\n",
    "        for num_data in [6000, 20000, 100000]:\n",
    "            for algo in algorithms:\n",
    "                # num_data = 12000\n",
    "                seed_set = 0\n",
    "                seeds = [1234]\n",
    "                for seed in seeds:\n",
    "                    ((data_x, labels), (w_list, b_list, vals), stats) = data_gen_decision_tree(\n",
    "                                                                dim=args.input_dim, seed=seed, num_levels=4,\n",
    "                                                                num_data=num_data)\n",
    "                    seed_set=seed\n",
    "\n",
    "                w_list_old = np.array(w_list)\n",
    "                b_list_old = np.array(b_list)\n",
    "\n",
    "                num_data = len(data_x)\n",
    "                num_train= num_data//2\n",
    "                num_vali = num_data//4\n",
    "                num_test = num_data//4\n",
    "                train_data = data_x[:num_train,:]\n",
    "                train_data_labels = labels[:num_train]\n",
    "\n",
    "                vali_data = data_x[num_train:num_train+num_vali,:]\n",
    "                vali_data_labels = labels[num_train:num_train+num_vali]\n",
    "\n",
    "                test_data = data_x[num_train+num_vali :,:]\n",
    "                test_data_labels = labels[num_train+num_vali :] \n",
    "                model = algo(args)\n",
    "\n",
    "                model.train(train_data, train_data_labels, vali_data, vali_data_labels, test_data, test_data_labels, w_list_old=w_list_old, b_list_old=b_list_old)"
   ]
  },
  {
   "cell_type": "code",
   "execution_count": 32,
   "metadata": {},
   "outputs": [],
   "source": [
    "import matplotlib.pyplot as plt\n",
    "def visualize(data_x, labels):\n",
    "    class_0 = data_x[labels == 0]\n",
    "    class_1 = data_x[labels == 1]\n",
    "\n",
    "    plt.scatter(class_0[:, 0], class_0[:, 1])\n",
    "    plt.scatter(class_1[:, 0], class_1[:, 1])\n",
    "    plt.show()"
   ]
  },
  {
   "cell_type": "code",
   "execution_count": 55,
   "metadata": {},
   "outputs": [
    {
     "name": "stdout",
     "output_type": "stream",
     "text": [
      "0.8947878096697922 0.2912616265742506 -0.0013510494745363768\n",
      "0.8958114844494788 0.41353283946731384 0.06342538041655948\n"
     ]
    }
   ],
   "source": [
    "((data_x, labels), (w_list, b_list, vals), stats) = data_gen_decision_tree(\n",
    "                                                                dim=2, seed=24, num_levels=4,\n",
    "                                                                num_data=100000)\n"
   ]
  },
  {
   "cell_type": "code",
   "execution_count": 56,
   "metadata": {},
   "outputs": [
    {
     "data": {
      "image/png": "[encoded data removed]",
      "text/plain": [
       "<Figure size 640x480 with 1 Axes>"
      ]
     },
     "metadata": {},
     "output_type": "display_data"
    }
   ],
   "source": [
    "visualize(data_x, labels)"
   ]
  }
 ],
 "metadata": {
  "kernelspec": {
   "display_name": "Python 3",
   "language": "python",
   "name": "python3"
  },
  "language_info": {
   "codemirror_mode": {
    "name": "ipython",
    "version": 3
   },
   "file_extension": ".py",
   "mimetype": "text/x-python",
   "name": "python",
   "nbconvert_exporter": "python",
   "pygments_lexer": "ipython3",
   "version": "3.11.5"
  }
 },
 "nbformat": 4,
 "nbformat_minor": 2
}
