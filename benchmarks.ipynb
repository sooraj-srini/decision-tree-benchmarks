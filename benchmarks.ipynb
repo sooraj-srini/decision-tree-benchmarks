{
 "cells": [
  {
   "cell_type": "code",
   "execution_count": 11,
   "metadata": {},
   "outputs": [
    {
     "name": "stdout",
     "output_type": "stream",
     "text": [
      "The autoreload extension is already loaded. To reload it, use:\n",
      "  %reload_ext autoreload\n"
     ]
    }
   ],
   "source": [
    "%load_ext autoreload\n",
    "%autoreload 2"
   ]
  },
  {
   "cell_type": "code",
   "execution_count": 12,
   "metadata": {},
   "outputs": [],
   "source": [
    "from data_gen import Args, data_gen_decision_tree \n",
    "import numpy as np\n",
    "# from dlgn import trainDLGN\n",
    "# from lcn import trainLCN\n",
    "# from latent import trainLatentTree\n",
    "# from tao import trainTAO\n",
    "import dlgn\n",
    "import lcn\n",
    "import latent\n",
    "import tao"
   ]
  },
  {
   "cell_type": "code",
   "execution_count": 13,
   "metadata": {},
   "outputs": [],
   "source": [
    "#algorithms = [dlgn.trainDLGN, lcn.trainLCN, latent.trainLatentTree, tao.trainTAO]\n",
    "algorithms = [tao.trainTAO]"
   ]
  },
  {
   "cell_type": "code",
   "execution_count": 14,
   "metadata": {},
   "outputs": [],
   "source": [
    "args = Args()\n",
    "args.numlayer = 4\n",
    "args.numnodes = 50\n",
    "args.beta = 3.\n",
    "args.lr = 0.001\n",
    "args.input_dim = 2"
   ]
  },
  {
   "cell_type": "code",
   "execution_count": 15,
   "metadata": {},
   "outputs": [
    {
     "name": "stdout",
     "output_type": "stream",
     "text": [
      "0.8848674525558149 0.7423035474314879 -0.9340161513391072\n",
      "0.8866181264573597 1.0094960179278372 -0.5190998687815137\n",
      "Current height: 2\n",
      "starting score 0.5946666666666667\n",
      "Train acc 0.5946666666666667\n",
      "Test acc 0.576\n",
      "Current height: 3\n",
      "starting score 0.6375\n",
      "Train acc 0.6828333333333333\n",
      "Test acc 0.6643333333333333\n",
      "Current height: 4\n",
      "starting score 0.7031666666666667\n",
      "Train acc 0.8483333333333334\n",
      "Test acc 0.854\n",
      "Current height: 5\n",
      "starting score 0.751\n",
      "Train acc 0.7568333333333334\n",
      "Test acc 0.76\n",
      "Current height: 6\n",
      "starting score 0.7848333333333334\n",
      "Train acc 0.8205\n",
      "Test acc 0.8083333333333333\n",
      "Current height: 7\n",
      "starting score 0.8135\n",
      "Train acc 0.8976666666666666\n",
      "Test acc 0.889\n",
      "Current height: 8\n",
      "starting score 0.8913333333333333\n",
      "Train acc 0.9088333333333334\n",
      "Test acc 0.896\n",
      "Current height: 9\n",
      "starting score 0.9233333333333333\n",
      "Train acc 0.935\n",
      "Test acc 0.921\n",
      "Current height: 10\n",
      "starting score 0.9413333333333334\n",
      "Train acc 0.9526666666666667\n",
      "Test acc 0.9283333333333333\n",
      "Current height: 11\n",
      "starting score 0.9531666666666667\n",
      "Train acc 0.9645\n",
      "Test acc 0.9393333333333334\n",
      "Current height: 12\n",
      "starting score 0.973\n",
      "Train acc 0.964\n",
      "Test acc 0.936\n",
      "Current height: 13\n",
      "starting score 0.9796666666666667\n",
      "Train acc 0.9723333333333334\n",
      "Test acc 0.9426666666666667\n",
      "Current height: 14\n",
      "starting score 0.9891666666666666\n",
      "Train acc 0.9861666666666666\n",
      "Test acc 0.9563333333333334\n",
      "Current height: 15\n",
      "starting score 0.9921666666666666\n",
      "Train acc 0.9833333333333333\n",
      "Test acc 0.9523333333333334\n",
      "Current height: 16\n",
      "starting score 0.995\n",
      "Train acc 0.991\n",
      "Test acc 0.9583333333333334\n",
      "Current height: 17\n",
      "starting score 0.9976666666666667\n",
      "Train acc 0.9936666666666667\n",
      "Test acc 0.9623333333333334\n",
      "Current height: 18\n",
      "starting score 0.9983333333333333\n"
     ]
    },
    {
     "ename": "KeyboardInterrupt",
     "evalue": "",
     "output_type": "error",
     "traceback": [
      "\u001b[0;31m---------------------------------------------------------------------------\u001b[0m",
      "\u001b[0;31mKeyboardInterrupt\u001b[0m                         Traceback (most recent call last)",
      "\u001b[1;32m/home/sooraj/sem/ugrc/benchmarks/benchmarks.ipynb Cell 5\u001b[0m line \u001b[0;36m2\n\u001b[1;32m     <a href='vscode-notebook-cell:/home/sooraj/sem/ugrc/benchmarks/benchmarks.ipynb#W3sZmlsZQ%3D%3D?line=24'>25</a>\u001b[0m test_data_labels \u001b[39m=\u001b[39m labels[num_train\u001b[39m+\u001b[39mnum_vali :] \n\u001b[1;32m     <a href='vscode-notebook-cell:/home/sooraj/sem/ugrc/benchmarks/benchmarks.ipynb#W3sZmlsZQ%3D%3D?line=25'>26</a>\u001b[0m model \u001b[39m=\u001b[39m algo(args)\n\u001b[0;32m---> <a href='vscode-notebook-cell:/home/sooraj/sem/ugrc/benchmarks/benchmarks.ipynb#W3sZmlsZQ%3D%3D?line=27'>28</a>\u001b[0m model\u001b[39m.\u001b[39;49mtrain(train_data, train_data_labels, vali_data, vali_data_labels, test_data, test_data_labels, w_list_old\u001b[39m=\u001b[39;49mw_list_old, b_list_old\u001b[39m=\u001b[39;49mb_list_old)\n",
      "File \u001b[0;32m~/sem/ugrc/benchmarks/tao.py:20\u001b[0m, in \u001b[0;36mtrainTAO.train\u001b[0;34m(self, train_data, train_data_labels, vali_data, vali_data_labels, test_data, test_data_labels, w_list_old, b_list_old)\u001b[0m\n\u001b[1;32m     15\u001b[0m \u001b[39mprint\u001b[39m(\u001b[39mf\u001b[39m\u001b[39m\"\u001b[39m\u001b[39mCurrent height: \u001b[39m\u001b[39m{\u001b[39;00mh\u001b[39m}\u001b[39;00m\u001b[39m\"\u001b[39m)\n\u001b[1;32m     16\u001b[0m m \u001b[39m=\u001b[39m TaoTreeClassifier(randomize_tree\u001b[39m=\u001b[39m\u001b[39mFalse\u001b[39;00m, weight_errors\u001b[39m=\u001b[39m\u001b[39mFalse\u001b[39;00m,\n\u001b[1;32m     17\u001b[0m                         node_model\u001b[39m=\u001b[39m\u001b[39m'\u001b[39m\u001b[39mlinear\u001b[39m\u001b[39m'\u001b[39m, model_args\u001b[39m=\u001b[39m{\u001b[39m'\u001b[39m\u001b[39mmax_depth\u001b[39m\u001b[39m'\u001b[39m: h},\n\u001b[1;32m     18\u001b[0m                         verbose\u001b[39m=\u001b[39m\u001b[39m1\u001b[39m, n_iters\u001b[39m=\u001b[39m\u001b[39m30\u001b[39m)\n\u001b[0;32m---> 20\u001b[0m m\u001b[39m.\u001b[39;49mfit(train_data, train_data_labels)\n\u001b[1;32m     21\u001b[0m \u001b[39mprint\u001b[39m(\u001b[39m'\u001b[39m\u001b[39mTrain acc\u001b[39m\u001b[39m'\u001b[39m, np\u001b[39m.\u001b[39mmean(m\u001b[39m.\u001b[39mpredict(train_data) \u001b[39m==\u001b[39m train_data_labels))\n\u001b[1;32m     22\u001b[0m \u001b[39mprint\u001b[39m(\u001b[39m'\u001b[39m\u001b[39mValid acc\u001b[39m\u001b[39m'\u001b[39m, np\u001b[39m.\u001b[39mmean(m\u001b[39m.\u001b[39mpredict(vali_data) \u001b[39m==\u001b[39m vali_data_labels))\n",
      "File \u001b[0;32m~/sem/ugrc/benchmarks/taodecisiontree.py:140\u001b[0m, in \u001b[0;36mTaoTree.fit\u001b[0;34m(self, X, y, feature_names, sample_weight)\u001b[0m\n\u001b[1;32m    138\u001b[0m     \u001b[39mprint\u001b[39m(\u001b[39m'\u001b[39m\u001b[39mstarting score\u001b[39m\u001b[39m'\u001b[39m, \u001b[39mself\u001b[39m\u001b[39m.\u001b[39mmodel\u001b[39m.\u001b[39mscore(X, y))\n\u001b[1;32m    139\u001b[0m \u001b[39mfor\u001b[39;00m i \u001b[39min\u001b[39;00m \u001b[39mrange\u001b[39m(\u001b[39mself\u001b[39m\u001b[39m.\u001b[39mn_iters):\n\u001b[0;32m--> 140\u001b[0m     num_updates \u001b[39m=\u001b[39m \u001b[39mself\u001b[39;49m\u001b[39m.\u001b[39;49m_tao_iter_cart(X, y, \u001b[39mself\u001b[39;49m\u001b[39m.\u001b[39;49mmodel\u001b[39m.\u001b[39;49mtree_, sample_weight\u001b[39m=\u001b[39;49msample_weight)\n\u001b[1;32m    141\u001b[0m     \u001b[39m# if num_updates == 0:\u001b[39;00m\n\u001b[1;32m    142\u001b[0m         \u001b[39m# break\u001b[39;00m\n\u001b[1;32m    144\u001b[0m \u001b[39mreturn\u001b[39;00m \u001b[39mself\u001b[39m\n",
      "File \u001b[0;32m~/sem/ugrc/benchmarks/taodecisiontree.py:205\u001b[0m, in \u001b[0;36mTaoTree._tao_iter_cart\u001b[0;34m(self, X, y, tree, X_score, y_score, sample_weight)\u001b[0m\n\u001b[1;32m    202\u001b[0m         y \u001b[39m=\u001b[39m y[idxs]\n\u001b[1;32m    203\u001b[0m     \u001b[39mreturn\u001b[39;00m X, y\n\u001b[0;32m--> 205\u001b[0m X_node, y_node \u001b[39m=\u001b[39m filter_points_by_path(X, y, path_to_node_index)\n\u001b[1;32m    207\u001b[0m \u001b[39mif\u001b[39;00m sample_weight \u001b[39mis\u001b[39;00m \u001b[39mnot\u001b[39;00m \u001b[39mNone\u001b[39;00m:\n\u001b[1;32m    208\u001b[0m     sample_weight_node \u001b[39m=\u001b[39m filter_points_by_path(X, sample_weight, path_to_node_index)[\u001b[39m1\u001b[39m]\n",
      "File \u001b[0;32m~/sem/ugrc/benchmarks/taodecisiontree.py:197\u001b[0m, in \u001b[0;36mTaoTree._tao_iter_cart.<locals>.filter_points_by_path\u001b[0;34m(X, y, path_to_node_index)\u001b[0m\n\u001b[1;32m    195\u001b[0m \u001b[39m\u001b[39m\u001b[39m\"\"\"Returns the points in X that are in the path to the node\"\"\"\u001b[39;00m\n\u001b[1;32m    196\u001b[0m \u001b[39mfor\u001b[39;00m node_id, direction \u001b[39min\u001b[39;00m path_to_node_index:\n\u001b[0;32m--> 197\u001b[0m     idxs \u001b[39m=\u001b[39m np\u001b[39m.\u001b[39;49mdot(X, \u001b[39mself\u001b[39;49m\u001b[39m.\u001b[39;49mweights[node_id]) \u001b[39m<\u001b[39m\u001b[39m=\u001b[39m threshold[node_id]\n\u001b[1;32m    198\u001b[0m     \u001b[39mif\u001b[39;00m direction \u001b[39m==\u001b[39m \u001b[39m'\u001b[39m\u001b[39mR\u001b[39m\u001b[39m'\u001b[39m:\n\u001b[1;32m    199\u001b[0m         idxs \u001b[39m=\u001b[39m \u001b[39m~\u001b[39midxs\n",
      "File \u001b[0;32m<__array_function__ internals>:180\u001b[0m, in \u001b[0;36mdot\u001b[0;34m(*args, **kwargs)\u001b[0m\n",
      "\u001b[0;31mKeyboardInterrupt\u001b[0m: "
     ]
    }
   ],
   "source": [
    "for algo in algorithms:\n",
    "    num_data = 12000\n",
    "    seed_set = 0\n",
    "    seeds = [1234]\n",
    "    for seed in seeds:\n",
    "        ((data_x, labels), (w_list, b_list, vals), stats) = data_gen_decision_tree(\n",
    "    \t\t\t\t\t\t\t\t\t\t\t\tdim=args.input_dim, seed=seed, num_levels=4,\n",
    "    \t\t\t\t\t\t\t\t\t\t\t\tnum_data=num_data)\n",
    "        seed_set=seed\n",
    "\n",
    "    w_list_old = np.array(w_list)\n",
    "    b_list_old = np.array(b_list)\n",
    "\n",
    "    num_data = len(data_x)\n",
    "    num_train= num_data//2\n",
    "    num_vali = num_data//4\n",
    "    num_test = num_data//4\n",
    "    train_data = data_x[:num_train,:]\n",
    "    train_data_labels = labels[:num_train]\n",
    "\n",
    "    vali_data = data_x[num_train:num_train+num_vali,:]\n",
    "    vali_data_labels = labels[num_train:num_train+num_vali]\n",
    "\n",
    "    test_data = data_x[num_train+num_vali :,:]\n",
    "    test_data_labels = labels[num_train+num_vali :] \n",
    "    model = algo(args)\n",
    "\n",
    "    model.train(train_data, train_data_labels, vali_data, vali_data_labels, test_data, test_data_labels, w_list_old=w_list_old, b_list_old=b_list_old)"
   ]
  }
 ],
 "metadata": {
  "kernelspec": {
   "display_name": "Python 3",
   "language": "python",
   "name": "python3"
  },
  "language_info": {
   "codemirror_mode": {
    "name": "ipython",
    "version": 3
   },
   "file_extension": ".py",
   "mimetype": "text/x-python",
   "name": "python",
   "nbconvert_exporter": "python",
   "pygments_lexer": "ipython3",
   "version": "3.11.5"
  }
 },
 "nbformat": 4,
 "nbformat_minor": 2
}
